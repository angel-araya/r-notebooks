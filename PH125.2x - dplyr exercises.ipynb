{
 "cells": [
  {
   "cell_type": "code",
   "execution_count": 18,
   "metadata": {},
   "outputs": [],
   "source": [
    "library(tidyverse)\n",
    "library(NHANES)\n",
    "library(dslabs)\n",
    "\n",
    "data(NHANES)\n",
    "data(na_example)\n"
   ]
  },
  {
   "cell_type": "code",
   "execution_count": 19,
   "metadata": {},
   "outputs": [
    {
     "data": {
      "text/html": [
       "&lt;NA&gt;"
      ],
      "text/latex": [
       "<NA>"
      ],
      "text/markdown": [
       "&lt;NA&gt;"
      ],
      "text/plain": [
       "[1] NA"
      ]
     },
     "metadata": {},
     "output_type": "display_data"
    },
    {
     "data": {
      "text/html": [
       "2.30175438596491"
      ],
      "text/latex": [
       "2.30175438596491"
      ],
      "text/markdown": [
       "2.30175438596491"
      ],
      "text/plain": [
       "[1] 2.301754"
      ]
     },
     "metadata": {},
     "output_type": "display_data"
    }
   ],
   "source": [
    "# mean will return NA if any value in the vector is NA, by default | optional with na.rm\n",
    "mean(na_example)\n",
    "mean(na_example, na.rm = TRUE)"
   ]
  },
  {
   "cell_type": "code",
   "execution_count": 27,
   "metadata": {},
   "outputs": [],
   "source": [
    "tab <- NHANES %>%\n",
    "    filter(AgeDecade == ' 20-29' & Gender == 'female')\n",
    "\n",
    "ref <- tab %>%\n",
    "    summarize(average = mean(BPSysAve, na.rm = TRUE), standard_deviation = sd(BPSysAve, na.rm = TRUE))\n",
    "\n",
    "ref_avg <- ref %>%\n",
    "    .$average"
   ]
  },
  {
   "cell_type": "code",
   "execution_count": 29,
   "metadata": {},
   "outputs": [
    {
     "data": {
      "text/html": [
       "<table>\n",
       "<thead><tr><th scope=col>AgeDecade</th><th scope=col>average</th><th scope=col>standard_deviation</th></tr></thead>\n",
       "<tbody>\n",
       "\t<tr><td> 0-9     </td><td> 99.95041</td><td> 9.071798</td></tr>\n",
       "\t<tr><td> 10-19   </td><td>104.27466</td><td> 9.461431</td></tr>\n",
       "\t<tr><td> 20-29   </td><td>108.42243</td><td>10.146681</td></tr>\n",
       "\t<tr><td> 30-39   </td><td>111.25512</td><td>12.314790</td></tr>\n",
       "\t<tr><td> 40-49   </td><td>115.49385</td><td>14.530054</td></tr>\n",
       "\t<tr><td> 50-59   </td><td>121.84245</td><td>16.179333</td></tr>\n",
       "\t<tr><td> 60-69   </td><td>127.17787</td><td>17.125713</td></tr>\n",
       "\t<tr><td> 70+     </td><td>133.51652</td><td>19.841781</td></tr>\n",
       "\t<tr><td>NA       </td><td>141.54839</td><td>22.908521</td></tr>\n",
       "</tbody>\n",
       "</table>\n"
      ],
      "text/latex": [
       "\\begin{tabular}{r|lll}\n",
       " AgeDecade & average & standard\\_deviation\\\\\n",
       "\\hline\n",
       "\t  0-9      &  99.95041 &  9.071798\\\\\n",
       "\t  10-19    & 104.27466 &  9.461431\\\\\n",
       "\t  20-29    & 108.42243 & 10.146681\\\\\n",
       "\t  30-39    & 111.25512 & 12.314790\\\\\n",
       "\t  40-49    & 115.49385 & 14.530054\\\\\n",
       "\t  50-59    & 121.84245 & 16.179333\\\\\n",
       "\t  60-69    & 127.17787 & 17.125713\\\\\n",
       "\t  70+      & 133.51652 & 19.841781\\\\\n",
       "\t NA        & 141.54839 & 22.908521\\\\\n",
       "\\end{tabular}\n"
      ],
      "text/markdown": [
       "\n",
       "| AgeDecade | average | standard_deviation |\n",
       "|---|---|---|\n",
       "|  0-9      |  99.95041 |  9.071798 |\n",
       "|  10-19    | 104.27466 |  9.461431 |\n",
       "|  20-29    | 108.42243 | 10.146681 |\n",
       "|  30-39    | 111.25512 | 12.314790 |\n",
       "|  40-49    | 115.49385 | 14.530054 |\n",
       "|  50-59    | 121.84245 | 16.179333 |\n",
       "|  60-69    | 127.17787 | 17.125713 |\n",
       "|  70+      | 133.51652 | 19.841781 |\n",
       "| NA        | 141.54839 | 22.908521 |\n",
       "\n"
      ],
      "text/plain": [
       "  AgeDecade average   standard_deviation\n",
       "1  0-9       99.95041  9.071798         \n",
       "2  10-19    104.27466  9.461431         \n",
       "3  20-29    108.42243 10.146681         \n",
       "4  30-39    111.25512 12.314790         \n",
       "5  40-49    115.49385 14.530054         \n",
       "6  50-59    121.84245 16.179333         \n",
       "7  60-69    127.17787 17.125713         \n",
       "8  70+      133.51652 19.841781         \n",
       "9 NA        141.54839 22.908521         "
      ]
     },
     "metadata": {},
     "output_type": "display_data"
    }
   ],
   "source": [
    "NHANES %>%\n",
    "    filter(Gender == 'female') %>%\n",
    "    group_by(AgeDecade) %>%\n",
    "    summarize(average = mean(BPSysAve, na.rm = TRUE),\n",
    "              standard_deviation = sd(BPSysAve, na.rm = TRUE))"
   ]
  },
  {
   "cell_type": "code",
   "execution_count": 32,
   "metadata": {},
   "outputs": [
    {
     "data": {
      "text/html": [
       "<table>\n",
       "<thead><tr><th scope=col>AgeDecade</th><th scope=col>Gender</th><th scope=col>average</th><th scope=col>standard_deviation</th></tr></thead>\n",
       "<tbody>\n",
       "\t<tr><td> 0-9     </td><td>female   </td><td> 99.95041</td><td> 9.071798</td></tr>\n",
       "\t<tr><td> 0-9     </td><td>male     </td><td> 97.41912</td><td> 8.317367</td></tr>\n",
       "\t<tr><td> 10-19   </td><td>female   </td><td>104.27466</td><td> 9.461431</td></tr>\n",
       "\t<tr><td> 10-19   </td><td>male     </td><td>109.59789</td><td>11.227769</td></tr>\n",
       "\t<tr><td> 20-29   </td><td>female   </td><td>108.42243</td><td>10.146681</td></tr>\n",
       "\t<tr><td> 20-29   </td><td>male     </td><td>117.85084</td><td>11.274795</td></tr>\n",
       "\t<tr><td> 30-39   </td><td>female   </td><td>111.25512</td><td>12.314790</td></tr>\n",
       "\t<tr><td> 30-39   </td><td>male     </td><td>119.40063</td><td>12.306656</td></tr>\n",
       "\t<tr><td> 40-49   </td><td>female   </td><td>115.49385</td><td>14.530054</td></tr>\n",
       "\t<tr><td> 40-49   </td><td>male     </td><td>120.78390</td><td>13.968338</td></tr>\n",
       "\t<tr><td> 50-59   </td><td>female   </td><td>121.84245</td><td>16.179333</td></tr>\n",
       "\t<tr><td> 50-59   </td><td>male     </td><td>125.75000</td><td>17.760536</td></tr>\n",
       "\t<tr><td> 60-69   </td><td>female   </td><td>127.17787</td><td>17.125713</td></tr>\n",
       "\t<tr><td> 60-69   </td><td>male     </td><td>126.88578</td><td>17.478117</td></tr>\n",
       "\t<tr><td> 70+     </td><td>female   </td><td>133.51652</td><td>19.841781</td></tr>\n",
       "\t<tr><td> 70+     </td><td>male     </td><td>130.20172</td><td>18.657475</td></tr>\n",
       "\t<tr><td>NA       </td><td>female   </td><td>141.54839</td><td>22.908521</td></tr>\n",
       "\t<tr><td>NA       </td><td>male     </td><td>136.40000</td><td>23.534731</td></tr>\n",
       "</tbody>\n",
       "</table>\n"
      ],
      "text/latex": [
       "\\begin{tabular}{r|llll}\n",
       " AgeDecade & Gender & average & standard\\_deviation\\\\\n",
       "\\hline\n",
       "\t  0-9      & female    &  99.95041 &  9.071798\\\\\n",
       "\t  0-9      & male      &  97.41912 &  8.317367\\\\\n",
       "\t  10-19    & female    & 104.27466 &  9.461431\\\\\n",
       "\t  10-19    & male      & 109.59789 & 11.227769\\\\\n",
       "\t  20-29    & female    & 108.42243 & 10.146681\\\\\n",
       "\t  20-29    & male      & 117.85084 & 11.274795\\\\\n",
       "\t  30-39    & female    & 111.25512 & 12.314790\\\\\n",
       "\t  30-39    & male      & 119.40063 & 12.306656\\\\\n",
       "\t  40-49    & female    & 115.49385 & 14.530054\\\\\n",
       "\t  40-49    & male      & 120.78390 & 13.968338\\\\\n",
       "\t  50-59    & female    & 121.84245 & 16.179333\\\\\n",
       "\t  50-59    & male      & 125.75000 & 17.760536\\\\\n",
       "\t  60-69    & female    & 127.17787 & 17.125713\\\\\n",
       "\t  60-69    & male      & 126.88578 & 17.478117\\\\\n",
       "\t  70+      & female    & 133.51652 & 19.841781\\\\\n",
       "\t  70+      & male      & 130.20172 & 18.657475\\\\\n",
       "\t NA        & female    & 141.54839 & 22.908521\\\\\n",
       "\t NA        & male      & 136.40000 & 23.534731\\\\\n",
       "\\end{tabular}\n"
      ],
      "text/markdown": [
       "\n",
       "| AgeDecade | Gender | average | standard_deviation |\n",
       "|---|---|---|---|\n",
       "|  0-9      | female    |  99.95041 |  9.071798 |\n",
       "|  0-9      | male      |  97.41912 |  8.317367 |\n",
       "|  10-19    | female    | 104.27466 |  9.461431 |\n",
       "|  10-19    | male      | 109.59789 | 11.227769 |\n",
       "|  20-29    | female    | 108.42243 | 10.146681 |\n",
       "|  20-29    | male      | 117.85084 | 11.274795 |\n",
       "|  30-39    | female    | 111.25512 | 12.314790 |\n",
       "|  30-39    | male      | 119.40063 | 12.306656 |\n",
       "|  40-49    | female    | 115.49385 | 14.530054 |\n",
       "|  40-49    | male      | 120.78390 | 13.968338 |\n",
       "|  50-59    | female    | 121.84245 | 16.179333 |\n",
       "|  50-59    | male      | 125.75000 | 17.760536 |\n",
       "|  60-69    | female    | 127.17787 | 17.125713 |\n",
       "|  60-69    | male      | 126.88578 | 17.478117 |\n",
       "|  70+      | female    | 133.51652 | 19.841781 |\n",
       "|  70+      | male      | 130.20172 | 18.657475 |\n",
       "| NA        | female    | 141.54839 | 22.908521 |\n",
       "| NA        | male      | 136.40000 | 23.534731 |\n",
       "\n"
      ],
      "text/plain": [
       "   AgeDecade Gender average   standard_deviation\n",
       "1   0-9      female  99.95041  9.071798         \n",
       "2   0-9      male    97.41912  8.317367         \n",
       "3   10-19    female 104.27466  9.461431         \n",
       "4   10-19    male   109.59789 11.227769         \n",
       "5   20-29    female 108.42243 10.146681         \n",
       "6   20-29    male   117.85084 11.274795         \n",
       "7   30-39    female 111.25512 12.314790         \n",
       "8   30-39    male   119.40063 12.306656         \n",
       "9   40-49    female 115.49385 14.530054         \n",
       "10  40-49    male   120.78390 13.968338         \n",
       "11  50-59    female 121.84245 16.179333         \n",
       "12  50-59    male   125.75000 17.760536         \n",
       "13  60-69    female 127.17787 17.125713         \n",
       "14  60-69    male   126.88578 17.478117         \n",
       "15  70+      female 133.51652 19.841781         \n",
       "16  70+      male   130.20172 18.657475         \n",
       "17 NA        female 141.54839 22.908521         \n",
       "18 NA        male   136.40000 23.534731         "
      ]
     },
     "metadata": {},
     "output_type": "display_data"
    }
   ],
   "source": [
    "NHANES %>%\n",
    "    group_by(AgeDecade, Gender) %>%\n",
    "    summarize(average = mean(BPSysAve, na.rm = TRUE),\n",
    "              standard_deviation = sd(BPSysAve, na.rm = TRUE))"
   ]
  },
  {
   "cell_type": "code",
   "execution_count": 38,
   "metadata": {},
   "outputs": [
    {
     "data": {
      "text/html": [
       "<table>\n",
       "<thead><tr><th scope=col>Race1</th><th scope=col>average</th><th scope=col>standard_deviation</th></tr></thead>\n",
       "<tbody>\n",
       "\t<tr><td>White   </td><td>119.9188</td><td>13.42355</td></tr>\n",
       "\t<tr><td>Other   </td><td>120.4000</td><td>16.20241</td></tr>\n",
       "\t<tr><td>Hispanic</td><td>121.6098</td><td>11.06770</td></tr>\n",
       "\t<tr><td>Mexican </td><td>121.8500</td><td>13.93756</td></tr>\n",
       "\t<tr><td>Black   </td><td>125.8387</td><td>17.06707</td></tr>\n",
       "</tbody>\n",
       "</table>\n"
      ],
      "text/latex": [
       "\\begin{tabular}{r|lll}\n",
       " Race1 & average & standard\\_deviation\\\\\n",
       "\\hline\n",
       "\t White    & 119.9188 & 13.42355\\\\\n",
       "\t Other    & 120.4000 & 16.20241\\\\\n",
       "\t Hispanic & 121.6098 & 11.06770\\\\\n",
       "\t Mexican  & 121.8500 & 13.93756\\\\\n",
       "\t Black    & 125.8387 & 17.06707\\\\\n",
       "\\end{tabular}\n"
      ],
      "text/markdown": [
       "\n",
       "| Race1 | average | standard_deviation |\n",
       "|---|---|---|\n",
       "| White    | 119.9188 | 13.42355 |\n",
       "| Other    | 120.4000 | 16.20241 |\n",
       "| Hispanic | 121.6098 | 11.06770 |\n",
       "| Mexican  | 121.8500 | 13.93756 |\n",
       "| Black    | 125.8387 | 17.06707 |\n",
       "\n"
      ],
      "text/plain": [
       "  Race1    average  standard_deviation\n",
       "1 White    119.9188 13.42355          \n",
       "2 Other    120.4000 16.20241          \n",
       "3 Hispanic 121.6098 11.06770          \n",
       "4 Mexican  121.8500 13.93756          \n",
       "5 Black    125.8387 17.06707          "
      ]
     },
     "metadata": {},
     "output_type": "display_data"
    }
   ],
   "source": [
    "NHANES %>%\n",
    "    filter(AgeDecade == ' 40-49' & Gender == 'male') %>%\n",
    "    group_by(Race1) %>%\n",
    "    summarize(average = mean(BPSysAve, na.rm = TRUE),\n",
    "              standard_deviation = sd(BPSysAve, na.rm = TRUE)) %>%\n",
    "    arrange(average)"
   ]
  },
  {
   "cell_type": "code",
   "execution_count": null,
   "metadata": {},
   "outputs": [],
   "source": []
  }
 ],
 "metadata": {
  "kernelspec": {
   "display_name": "R",
   "language": "R",
   "name": "ir"
  },
  "language_info": {
   "codemirror_mode": "r",
   "file_extension": ".r",
   "mimetype": "text/x-r-source",
   "name": "R",
   "pygments_lexer": "r",
   "version": "3.5.1"
  }
 },
 "nbformat": 4,
 "nbformat_minor": 2
}
