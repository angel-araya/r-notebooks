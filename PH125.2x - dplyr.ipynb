{
 "cells": [
  {
   "cell_type": "code",
   "execution_count": 10,
   "metadata": {},
   "outputs": [],
   "source": [
    "library(tidyverse)\n",
    "library(dslabs)\n",
    "library(ggthemes)"
   ]
  },
  {
   "cell_type": "code",
   "execution_count": 17,
   "metadata": {},
   "outputs": [],
   "source": [
    "data(heights)\n",
    "data(murders)"
   ]
  },
  {
   "cell_type": "code",
   "execution_count": 27,
   "metadata": {},
   "outputs": [],
   "source": [
    "murders <- murders %>% mutate(murder_rate = total / population * 10^5)"
   ]
  },
  {
   "cell_type": "raw",
   "metadata": {},
   "source": [
    "Dot placeholder"
   ]
  },
  {
   "cell_type": "code",
   "execution_count": 12,
   "metadata": {},
   "outputs": [
    {
     "data": {
      "text/html": [
       "3,03455486317059"
      ],
      "text/latex": [
       "3,03455486317059"
      ],
      "text/markdown": [
       "3,03455486317059"
      ],
      "text/plain": [
       "[1] 3,034555"
      ]
     },
     "metadata": {},
     "output_type": "display_data"
    }
   ],
   "source": [
    "us_murder_rate <- murders %>% summarize(rate = sum(total) / sum(population) * 10^5) %>% .$rate\n",
    "us_murder_rate"
   ]
  },
  {
   "cell_type": "raw",
   "metadata": {},
   "source": [
    "Group By:\n",
    "It is usefull to first split data into groups and then compute summaries for each group. The output object is a \"group data frame\" as oposed to a data frame and dplyr functions will behave differently. See below:"
   ]
  },
  {
   "cell_type": "code",
   "execution_count": 30,
   "metadata": {},
   "outputs": [
    {
     "data": {
      "text/html": [
       "<table>\n",
       "<thead><tr><th scope=col>sex</th><th scope=col>average</th><th scope=col>std_deviation</th></tr></thead>\n",
       "<tbody>\n",
       "\t<tr><td>Female  </td><td>64,93942</td><td>3,760656</td></tr>\n",
       "\t<tr><td>Male    </td><td>69,31475</td><td>3,611024</td></tr>\n",
       "</tbody>\n",
       "</table>\n"
      ],
      "text/latex": [
       "\\begin{tabular}{r|lll}\n",
       " sex & average & std\\_deviation\\\\\n",
       "\\hline\n",
       "\t Female   & 64,93942 & 3,760656\\\\\n",
       "\t Male     & 69,31475 & 3,611024\\\\\n",
       "\\end{tabular}\n"
      ],
      "text/markdown": [
       "\n",
       "| sex | average | std_deviation |\n",
       "|---|---|---|\n",
       "| Female   | 64,93942 | 3,760656 |\n",
       "| Male     | 69,31475 | 3,611024 |\n",
       "\n"
      ],
      "text/plain": [
       "  sex    average  std_deviation\n",
       "1 Female 64,93942 3,760656     \n",
       "2 Male   69,31475 3,611024     "
      ]
     },
     "metadata": {},
     "output_type": "display_data"
    }
   ],
   "source": [
    "heights %>% \n",
    "    group_by(sex) %>%\n",
    "    summarize(average = mean(height), std_deviation = sd(height))"
   ]
  },
  {
   "cell_type": "code",
   "execution_count": 29,
   "metadata": {},
   "outputs": [
    {
     "data": {
      "text/html": [
       "<table>\n",
       "<thead><tr><th scope=col>region</th><th scope=col>median_rate</th></tr></thead>\n",
       "<tbody>\n",
       "\t<tr><td>Northeast    </td><td>1,802179     </td></tr>\n",
       "\t<tr><td>South        </td><td>3,398069     </td></tr>\n",
       "\t<tr><td>North Central</td><td>1,971105     </td></tr>\n",
       "\t<tr><td>West         </td><td>1,292453     </td></tr>\n",
       "</tbody>\n",
       "</table>\n"
      ],
      "text/latex": [
       "\\begin{tabular}{r|ll}\n",
       " region & median\\_rate\\\\\n",
       "\\hline\n",
       "\t Northeast     & 1,802179     \\\\\n",
       "\t South         & 3,398069     \\\\\n",
       "\t North Central & 1,971105     \\\\\n",
       "\t West          & 1,292453     \\\\\n",
       "\\end{tabular}\n"
      ],
      "text/markdown": [
       "\n",
       "| region | median_rate |\n",
       "|---|---|\n",
       "| Northeast     | 1,802179      |\n",
       "| South         | 3,398069      |\n",
       "| North Central | 1,971105      |\n",
       "| West          | 1,292453      |\n",
       "\n"
      ],
      "text/plain": [
       "  region        median_rate\n",
       "1 Northeast     1,802179   \n",
       "2 South         3,398069   \n",
       "3 North Central 1,971105   \n",
       "4 West          1,292453   "
      ]
     },
     "metadata": {},
     "output_type": "display_data"
    }
   ],
   "source": [
    "murders %>%\n",
    "    group_by(region) %>%\n",
    "    summarize(median_rate = median(murder_rate))"
   ]
  },
  {
   "cell_type": "raw",
   "metadata": {},
   "source": [
    "dplyr.arrange() | desc() | top_n()"
   ]
  },
  {
   "cell_type": "code",
   "execution_count": 32,
   "metadata": {},
   "outputs": [
    {
     "data": {
      "text/html": [
       "<table>\n",
       "<thead><tr><th scope=col>state</th><th scope=col>abb</th><th scope=col>region</th><th scope=col>population</th><th scope=col>total</th><th scope=col>murder_rate</th></tr></thead>\n",
       "<tbody>\n",
       "\t<tr><td>Vermont      </td><td>VT           </td><td>Northeast    </td><td> 625741      </td><td>2            </td><td>0,3196211    </td></tr>\n",
       "\t<tr><td>New Hampshire</td><td>NH           </td><td>Northeast    </td><td>1316470      </td><td>5            </td><td>0,3798036    </td></tr>\n",
       "\t<tr><td>Hawaii       </td><td>HI           </td><td>West         </td><td>1360301      </td><td>7            </td><td>0,5145920    </td></tr>\n",
       "</tbody>\n",
       "</table>\n"
      ],
      "text/latex": [
       "\\begin{tabular}{r|llllll}\n",
       " state & abb & region & population & total & murder\\_rate\\\\\n",
       "\\hline\n",
       "\t Vermont       & VT            & Northeast     &  625741       & 2             & 0,3196211    \\\\\n",
       "\t New Hampshire & NH            & Northeast     & 1316470       & 5             & 0,3798036    \\\\\n",
       "\t Hawaii        & HI            & West          & 1360301       & 7             & 0,5145920    \\\\\n",
       "\\end{tabular}\n"
      ],
      "text/markdown": [
       "\n",
       "| state | abb | region | population | total | murder_rate |\n",
       "|---|---|---|---|---|---|\n",
       "| Vermont       | VT            | Northeast     |  625741       | 2             | 0,3196211     |\n",
       "| New Hampshire | NH            | Northeast     | 1316470       | 5             | 0,3798036     |\n",
       "| Hawaii        | HI            | West          | 1360301       | 7             | 0,5145920     |\n",
       "\n"
      ],
      "text/plain": [
       "  state         abb region    population total murder_rate\n",
       "1 Vermont       VT  Northeast  625741    2     0,3196211  \n",
       "2 New Hampshire NH  Northeast 1316470    5     0,3798036  \n",
       "3 Hawaii        HI  West      1360301    7     0,5145920  "
      ]
     },
     "metadata": {},
     "output_type": "display_data"
    },
    {
     "data": {
      "text/html": [
       "<table>\n",
       "<thead><tr><th scope=col>state</th><th scope=col>abb</th><th scope=col>region</th><th scope=col>population</th><th scope=col>total</th><th scope=col>murder_rate</th></tr></thead>\n",
       "<tbody>\n",
       "\t<tr><td>District of Columbia</td><td>DC                  </td><td>South               </td><td> 601723             </td><td> 99                 </td><td>16,452753           </td></tr>\n",
       "\t<tr><td>Louisiana           </td><td>LA                  </td><td>South               </td><td>4533372             </td><td>351                 </td><td> 7,742581           </td></tr>\n",
       "\t<tr><td>Missouri            </td><td>MO                  </td><td>North Central       </td><td>5988927             </td><td>321                 </td><td> 5,359892           </td></tr>\n",
       "</tbody>\n",
       "</table>\n"
      ],
      "text/latex": [
       "\\begin{tabular}{r|llllll}\n",
       " state & abb & region & population & total & murder\\_rate\\\\\n",
       "\\hline\n",
       "\t District of Columbia & DC                   & South                &  601723              &  99                  & 16,452753           \\\\\n",
       "\t Louisiana            & LA                   & South                & 4533372              & 351                  &  7,742581           \\\\\n",
       "\t Missouri             & MO                   & North Central        & 5988927              & 321                  &  5,359892           \\\\\n",
       "\\end{tabular}\n"
      ],
      "text/markdown": [
       "\n",
       "| state | abb | region | population | total | murder_rate |\n",
       "|---|---|---|---|---|---|\n",
       "| District of Columbia | DC                   | South                |  601723              |  99                  | 16,452753            |\n",
       "| Louisiana            | LA                   | South                | 4533372              | 351                  |  7,742581            |\n",
       "| Missouri             | MO                   | North Central        | 5988927              | 321                  |  5,359892            |\n",
       "\n"
      ],
      "text/plain": [
       "  state                abb region        population total murder_rate\n",
       "1 District of Columbia DC  South          601723     99   16,452753  \n",
       "2 Louisiana            LA  South         4533372    351    7,742581  \n",
       "3 Missouri             MO  North Central 5988927    321    5,359892  "
      ]
     },
     "metadata": {},
     "output_type": "display_data"
    }
   ],
   "source": [
    "murders %>%\n",
    "    arrange(murder_rate) %>%\n",
    "    head(3)\n",
    "\n",
    "murders %>%\n",
    "    arrange(desc(murder_rate)) %>%\n",
    "    head(3)"
   ]
  },
  {
   "cell_type": "code",
   "execution_count": 33,
   "metadata": {},
   "outputs": [
    {
     "data": {
      "text/html": [
       "<table>\n",
       "<thead><tr><th scope=col>state</th><th scope=col>abb</th><th scope=col>region</th><th scope=col>population</th><th scope=col>total</th><th scope=col>murder_rate</th></tr></thead>\n",
       "<tbody>\n",
       "\t<tr><td>Vermont      </td><td>VT           </td><td>Northeast    </td><td> 625741      </td><td> 2           </td><td>0,3196211    </td></tr>\n",
       "\t<tr><td>New Hampshire</td><td>NH           </td><td>Northeast    </td><td>1316470      </td><td> 5           </td><td>0,3798036    </td></tr>\n",
       "\t<tr><td>Maine        </td><td>ME           </td><td>Northeast    </td><td>1328361      </td><td>11           </td><td>0,8280881    </td></tr>\n",
       "</tbody>\n",
       "</table>\n"
      ],
      "text/latex": [
       "\\begin{tabular}{r|llllll}\n",
       " state & abb & region & population & total & murder\\_rate\\\\\n",
       "\\hline\n",
       "\t Vermont       & VT            & Northeast     &  625741       &  2            & 0,3196211    \\\\\n",
       "\t New Hampshire & NH            & Northeast     & 1316470       &  5            & 0,3798036    \\\\\n",
       "\t Maine         & ME            & Northeast     & 1328361       & 11            & 0,8280881    \\\\\n",
       "\\end{tabular}\n"
      ],
      "text/markdown": [
       "\n",
       "| state | abb | region | population | total | murder_rate |\n",
       "|---|---|---|---|---|---|\n",
       "| Vermont       | VT            | Northeast     |  625741       |  2            | 0,3196211     |\n",
       "| New Hampshire | NH            | Northeast     | 1316470       |  5            | 0,3798036     |\n",
       "| Maine         | ME            | Northeast     | 1328361       | 11            | 0,8280881     |\n",
       "\n"
      ],
      "text/plain": [
       "  state         abb region    population total murder_rate\n",
       "1 Vermont       VT  Northeast  625741     2    0,3196211  \n",
       "2 New Hampshire NH  Northeast 1316470     5    0,3798036  \n",
       "3 Maine         ME  Northeast 1328361    11    0,8280881  "
      ]
     },
     "metadata": {},
     "output_type": "display_data"
    }
   ],
   "source": [
    "murders %>%\n",
    "    arrange(region, murder_rate) %>%\n",
    "    head(3)"
   ]
  }
 ],
 "metadata": {
  "kernelspec": {
   "display_name": "R",
   "language": "R",
   "name": "ir"
  },
  "language_info": {
   "codemirror_mode": "r",
   "file_extension": ".r",
   "mimetype": "text/x-r-source",
   "name": "R",
   "pygments_lexer": "r",
   "version": "3.5.1"
  }
 },
 "nbformat": 4,
 "nbformat_minor": 2
}
